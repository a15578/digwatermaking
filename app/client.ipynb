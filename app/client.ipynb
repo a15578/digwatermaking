{
 "cells": [
  {
   "cell_type": "code",
   "execution_count": null,
   "id": "b5b3ff5968685578",
   "metadata": {
    "collapsed": false
   },
   "outputs": [],
   "source": [
    "import requests\n",
    "\n",
    "url = \"http://localhost:8732/decode\"\n",
    "\n",
    "# 要上传的图片文件路径\n",
    "file_path = \"SKM_C36824052711540_00.png\"\n",
    "\n",
    "# 打开文件并将其上传\n",
    "with open(file_path, \"rb\") as file:\n",
    "    response = requests.post(url, files={\"file\": file})\n",
    "\n",
    "\n",
    "print(response.json())\n"
   ]
  },
  {
   "cell_type": "code",
   "execution_count": null,
   "id": "405b389ecde7fc0f",
   "metadata": {
    "collapsed": false
   },
   "outputs": [],
   "source": []
  }
 ],
 "metadata": {
  "kernelspec": {
   "display_name": "Python 3",
   "language": "python",
   "name": "python3"
  },
  "language_info": {
   "codemirror_mode": {
    "name": "ipython",
    "version": 3
   },
   "file_extension": ".py",
   "mimetype": "text/x-python",
   "name": "python",
   "nbconvert_exporter": "python",
   "pygments_lexer": "ipython3",
   "version": "3.10.13"
  }
 },
 "nbformat": 4,
 "nbformat_minor": 5
}
